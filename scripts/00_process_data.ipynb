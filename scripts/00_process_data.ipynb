{
 "cells": [
  {
   "cell_type": "markdown",
   "metadata": {},
   "source": [
    "# Packages"
   ]
  },
  {
   "cell_type": "code",
   "execution_count": 2,
   "metadata": {},
   "outputs": [],
   "source": [
    "import pandas as pd\n",
    "import os\n",
    "import re\n",
    "import datetime as dt\n",
    "pd.options.plotting.backend = \"plotly\""
   ]
  },
  {
   "cell_type": "markdown",
   "metadata": {},
   "source": [
    "#  Parameters"
   ]
  },
  {
   "cell_type": "code",
   "execution_count": 20,
   "metadata": {},
   "outputs": [],
   "source": [
    "PATH_INPUT_DATA = os.path.join('.','data','input')\n",
    "INPUT_DATA_NAME = 'Chat de WhatsApp con C7.txt'\n",
    "\n",
    "PATH_OUTPUT_DATA = os.path.join('.','data','output')\n",
    "OUTPUT_DATA_NAME = 'chat_data.csv'"
   ]
  },
  {
   "cell_type": "markdown",
   "metadata": {},
   "source": [
    "#  Functions"
   ]
  },
  {
   "cell_type": "code",
   "execution_count": 4,
   "metadata": {},
   "outputs": [],
   "source": [
    "def starts_with_date(s):\n",
    "#     pattern = '^([0-3][0-9]|(3)[0-1])(\\/)(([0-9])|([0-2][0-2]))(\\/)(\\d{2}|\\d{4}) ([0-9][0-9]):([0-9][0-9]) -'\n",
    "\n",
    "    # Date patters\n",
    "    pattern = '([0-3]?\\d\\/{1})([01]?\\d\\/{1})([12]{1}\\d{1}) ([0-9][0-9]):([0-9][0-9]) -'\n",
    "    \n",
    "    # Does it match\n",
    "    result = re.match(pattern, s)\n",
    "    \n",
    "    return result"
   ]
  },
  {
   "cell_type": "code",
   "execution_count": 5,
   "metadata": {},
   "outputs": [],
   "source": [
    "def split_data_message(s):\n",
    "    \n",
    "    # Split tokes of message\n",
    "    date, time, author_message = re.split(' - | |', s, 2) \n",
    "    author, message = re.split(': ', author_message, 1)\n",
    "    \n",
    "    return date, time, author, message"
   ]
  },
  {
   "cell_type": "code",
   "execution_count": 6,
   "metadata": {},
   "outputs": [],
   "source": [
    "def process_chat_data(chat_data):\n",
    "    \n",
    "    parsed_data = [] # List to keep track of data so it can be used by a Pandas dataframe\n",
    "    \n",
    "    message_buffer = [] # Buffer to capture intermediate output for multi-line messages\n",
    "    \n",
    "    for line in chat_data:\n",
    "        \n",
    "        if starts_with_date(line):\n",
    "            if len(message_buffer) > 0: # Check if the message buffer contains characters from previous iterations\n",
    "                parsed_data.append([date, time, author, ' '.join(message_buffer)]) # Save the tokens from the previous message in parsedData\n",
    "                message_buffer.clear() # Clear the message buffer so that it can be used for the next message\n",
    "                \n",
    "            date, time, author, message = split_data_message(line) # Identify and extract tokens from the line\n",
    "            message_buffer.append(message)\n",
    "        \n",
    "        else: # If a line doesn't start with a Date Time pattern, \n",
    "            message_buffer.append(line) # then it is part of a multi-line message. So, just append to buffer\n",
    "        \n",
    "    # Create dataframe\n",
    "    chat_data_proc = pd.DataFrame(parsed_data, columns=['date', 'time', 'author', 'message'])\n",
    "    \n",
    "    return chat_data_proc        "
   ]
  },
  {
   "cell_type": "code",
   "execution_count": 7,
   "metadata": {},
   "outputs": [],
   "source": [
    "def clean_processed_chat(chat_proc):\n",
    "    \n",
    "    chat_proc.date = pd.datetime(chat_proc.date)\n",
    "    "
   ]
  },
  {
   "cell_type": "markdown",
   "metadata": {},
   "source": [
    "# Data Import"
   ]
  },
  {
   "cell_type": "code",
   "execution_count": 8,
   "metadata": {},
   "outputs": [],
   "source": [
    "chat_raw = pd.read_table(os.path.join(PATH_INPUT_DATA, INPUT_DATA_NAME), header=None, names=['chat_line'], dtype='str')"
   ]
  },
  {
   "cell_type": "code",
   "execution_count": 9,
   "metadata": {
    "scrolled": true
   },
   "outputs": [
    {
     "data": {
      "text/html": [
       "<div>\n",
       "<style scoped>\n",
       "    .dataframe tbody tr th:only-of-type {\n",
       "        vertical-align: middle;\n",
       "    }\n",
       "\n",
       "    .dataframe tbody tr th {\n",
       "        vertical-align: top;\n",
       "    }\n",
       "\n",
       "    .dataframe thead th {\n",
       "        text-align: right;\n",
       "    }\n",
       "</style>\n",
       "<table border=\"1\" class=\"dataframe\">\n",
       "  <thead>\n",
       "    <tr style=\"text-align: right;\">\n",
       "      <th></th>\n",
       "      <th>chat_line</th>\n",
       "    </tr>\n",
       "  </thead>\n",
       "  <tbody>\n",
       "    <tr>\n",
       "      <th>0</th>\n",
       "      <td>30/5/20 00:21 - Bruno Pascucci: Genial</td>\n",
       "    </tr>\n",
       "    <tr>\n",
       "      <th>1</th>\n",
       "      <td>30/5/20 11:58 - Agus Figueroa C7: https://twit...</td>\n",
       "    </tr>\n",
       "    <tr>\n",
       "      <th>2</th>\n",
       "      <td>30/5/20 11:58 - Agus Figueroa C7: ?</td>\n",
       "    </tr>\n",
       "    <tr>\n",
       "      <th>3</th>\n",
       "      <td>30/5/20 12:01 - Franco Bona: Supuestamente</td>\n",
       "    </tr>\n",
       "    <tr>\n",
       "      <th>4</th>\n",
       "      <td>30/5/20 12:01 - Nick Teperman: A qué hora acá??</td>\n",
       "    </tr>\n",
       "    <tr>\n",
       "      <th>...</th>\n",
       "      <td>...</td>\n",
       "    </tr>\n",
       "    <tr>\n",
       "      <th>827</th>\n",
       "      <td>Feliz día!!🔧</td>\n",
       "    </tr>\n",
       "    <tr>\n",
       "      <th>828</th>\n",
       "      <td>6/6/20 18:53 - Tomás Bianchi: Fantastico</td>\n",
       "    </tr>\n",
       "    <tr>\n",
       "      <th>829</th>\n",
       "      <td>6/6/20 18:55 - Mauricio Petaccia: Jajajajajaja</td>\n",
       "    </tr>\n",
       "    <tr>\n",
       "      <th>830</th>\n",
       "      <td>6/6/20 18:55 - Mauricio Petaccia: Jajajajajaja</td>\n",
       "    </tr>\n",
       "    <tr>\n",
       "      <th>831</th>\n",
       "      <td>6/6/20 18:55 - Mauricio Petaccia: Es muy bueno</td>\n",
       "    </tr>\n",
       "  </tbody>\n",
       "</table>\n",
       "<p>832 rows × 1 columns</p>\n",
       "</div>"
      ],
      "text/plain": [
       "                                             chat_line\n",
       "0               30/5/20 00:21 - Bruno Pascucci: Genial\n",
       "1    30/5/20 11:58 - Agus Figueroa C7: https://twit...\n",
       "2                  30/5/20 11:58 - Agus Figueroa C7: ?\n",
       "3           30/5/20 12:01 - Franco Bona: Supuestamente\n",
       "4      30/5/20 12:01 - Nick Teperman: A qué hora acá??\n",
       "..                                                 ...\n",
       "827                                       Feliz día!!🔧\n",
       "828           6/6/20 18:53 - Tomás Bianchi: Fantastico\n",
       "829     6/6/20 18:55 - Mauricio Petaccia: Jajajajajaja\n",
       "830     6/6/20 18:55 - Mauricio Petaccia: Jajajajajaja\n",
       "831     6/6/20 18:55 - Mauricio Petaccia: Es muy bueno\n",
       "\n",
       "[832 rows x 1 columns]"
      ]
     },
     "execution_count": 9,
     "metadata": {},
     "output_type": "execute_result"
    }
   ],
   "source": [
    "chat_raw"
   ]
  },
  {
   "cell_type": "code",
   "execution_count": 15,
   "metadata": {},
   "outputs": [],
   "source": [
    "chat_processed = process_chat_data(chat_raw['chat_line'])"
   ]
  },
  {
   "cell_type": "code",
   "execution_count": 18,
   "metadata": {},
   "outputs": [
    {
     "data": {
      "text/plain": [
       "array(['Bruno Pascucci', 'Agus Figueroa C7', 'Franco Bona',\n",
       "       'Nick Teperman', 'Pato C7', 'Fede Masciliano', 'Tomás Bianchi',\n",
       "       'Baco C7', 'Cecilia García L M', 'Fede Font', 'Mauricio Petaccia',\n",
       "       'Joaquin Del Prieto', 'Pauli Mazza Acn', 'Camila Rodriguez C7',\n",
       "       'Camilo Leonel Amadio', 'Albi C7', 'Juli Scipioni', 'Ger C7',\n",
       "       'Nico García Aramouni', 'Felipe De Feo', 'Ini C7', 'Neidym C7',\n",
       "       'Fran Lonardi', 'Paula C7', 'Vari C7', 'Clara Graham',\n",
       "       'Caro Colombo', 'Nano C7', 'Facundo Scasso', 'Juani Acn',\n",
       "       'Johi C7', 'Pili Aenlle', 'Agus Casas', 'Ignacio Brottier',\n",
       "       'Lesley Reiderman', 'Gabi C7', 'Mateo Dennehy ITBA',\n",
       "       'Lucia Monchiero', 'Tomy C7', 'Juan Juan Ferraro', 'Carla C7',\n",
       "       'Martín Turjanski', 'Lola Ferraro', 'Sebastian Gutman',\n",
       "       '+54 9 11 3174-1032', 'Beian Bohe Usa'], dtype=object)"
      ]
     },
     "execution_count": 18,
     "metadata": {},
     "output_type": "execute_result"
    }
   ],
   "source": [
    "chat_processed.author.unique()"
   ]
  },
  {
   "cell_type": "markdown",
   "metadata": {},
   "source": [
    "#  Export"
   ]
  },
  {
   "cell_type": "code",
   "execution_count": 21,
   "metadata": {},
   "outputs": [],
   "source": [
    "chat_processed.to_csv(os.path.join(PATH_OUTPUT_DATA, OUTPUT_DATA_NAME))"
   ]
  }
 ],
 "metadata": {
  "kernelspec": {
   "display_name": "Python 3",
   "language": "python",
   "name": "python3"
  },
  "language_info": {
   "codemirror_mode": {
    "name": "ipython",
    "version": 3
   },
   "file_extension": ".py",
   "mimetype": "text/x-python",
   "name": "python",
   "nbconvert_exporter": "python",
   "pygments_lexer": "ipython3",
   "version": "3.6.4"
  },
  "toc": {
   "base_numbering": 1,
   "nav_menu": {},
   "number_sections": true,
   "sideBar": true,
   "skip_h1_title": false,
   "title_cell": "Table of Contents",
   "title_sidebar": "Contents",
   "toc_cell": false,
   "toc_position": {},
   "toc_section_display": true,
   "toc_window_display": true
  }
 },
 "nbformat": 4,
 "nbformat_minor": 4
}
