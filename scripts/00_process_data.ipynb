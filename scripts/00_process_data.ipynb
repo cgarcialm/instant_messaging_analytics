{
 "cells": [
  {
   "cell_type": "markdown",
   "metadata": {},
   "source": [
    "# Packages"
   ]
  },
  {
   "cell_type": "code",
   "execution_count": 1,
   "metadata": {},
   "outputs": [],
   "source": [
    "import pandas as pd\n",
    "import numpy as np\n",
    "import os\n",
    "import re\n",
    "import datetime as dt\n",
    "pd.options.plotting.backend = \"plotly\""
   ]
  },
  {
   "cell_type": "markdown",
   "metadata": {},
   "source": [
    "#  Parameters"
   ]
  },
  {
   "cell_type": "code",
   "execution_count": 2,
   "metadata": {},
   "outputs": [],
   "source": [
    "PATH_INPUT_DATA = os.path.join('..','data','input')\n",
    "INPUT_DATA_NAME = 'Chat de WhatsApp con C7.txt'\n",
    "\n",
    "PATH_OUTPUT_DATA = os.path.join('..','data','output')\n",
    "OUTPUT_DATA_NAME = 'chat_data.csv'"
   ]
  },
  {
   "cell_type": "markdown",
   "metadata": {},
   "source": [
    "#  Functions"
   ]
  },
  {
   "cell_type": "code",
   "execution_count": 3,
   "metadata": {},
   "outputs": [],
   "source": [
    "def starts_with_date(s):\n",
    "    \n",
    "    # Check if string is not nan\n",
    "    if not pd.isnull(s):\n",
    "\n",
    "        # Date patters\n",
    "        pattern = '([0-3]?\\d\\/{1})([01]?\\d\\/{1})([12]{1}\\d{1}) ([0-9][0-9]):([0-9][0-9]) -*'\n",
    "\n",
    "        # Does it match\n",
    "        result = re.match(pattern, s)\n",
    "    \n",
    "    else:\n",
    "        result = False\n",
    "\n",
    "    if result and result.start() == 0: # Matches and starts with patters\n",
    "        return True\n",
    "    else:\n",
    "        return False"
   ]
  },
  {
   "cell_type": "code",
   "execution_count": 4,
   "metadata": {},
   "outputs": [],
   "source": [
    "def has_message(s):\n",
    "    # Checks if there's a :\n",
    "    result = ':' in s\n",
    "    \n",
    "    return result"
   ]
  },
  {
   "cell_type": "code",
   "execution_count": 5,
   "metadata": {},
   "outputs": [],
   "source": [
    "def split_data_message(s):\n",
    "    \n",
    "    # Split tokes of message\n",
    "    date, time, author_message = re.split(' - | |', s, 2) \n",
    "    \n",
    "    if has_message(author_message):\n",
    "        author, message = re.split(': ', author_message, 1)\n",
    "    else:\n",
    "        author, message = 'Whatsapp messages', author_message\n",
    "    \n",
    "    return date, time, author, message"
   ]
  },
  {
   "cell_type": "code",
   "execution_count": 6,
   "metadata": {},
   "outputs": [],
   "source": [
    "def process_chat_data(chat_data):\n",
    "    \n",
    "    parsed_data = [] # List to keep track of data so it can be used by a Pandas dataframe\n",
    "    \n",
    "    message_buffer = [] # Buffer to capture intermediate output for multi-line messages\n",
    "    \n",
    "    for line in chat_data:\n",
    "        \n",
    "        if starts_with_date(line):\n",
    "\n",
    "            if len(message_buffer) > 0: # Check if the message buffer contains characters from previous iterations\n",
    "                message_buffer_clean = [mes for mes in message_buffer if not pd.isnull(mes)] # Clean message from nan values\n",
    "                parsed_data.append([date, time, author, ' '.join(message_buffer_clean)]) # Save the tokens from the previous message in parsedData\n",
    "                message_buffer.clear() # Clear the message buffer so that it can be used for the next message\n",
    "                \n",
    "            date, time, author, message = split_data_message(line) # Identify and extract tokens from the line\n",
    "            message_buffer.append(message)\n",
    "        \n",
    "        else: # If a line doesn't start with a Date Time pattern, \n",
    "            message_buffer.append(line) # then it is part of a multi-line message. So, just append to buffer\n",
    "        \n",
    "    # Create dataframe\n",
    "    chat_data_proc = pd.DataFrame(parsed_data, columns=['date', 'time', 'author', 'message'])\n",
    "    chat_data_proc.set_index(['date', 'time'])\n",
    "    \n",
    "    return chat_data_proc        "
   ]
  },
  {
   "cell_type": "code",
   "execution_count": 7,
   "metadata": {},
   "outputs": [],
   "source": [
    "def clean_processed_chat(chat_proc):\n",
    "    \n",
    "    chat_proc.date = chat_proc.date.apply(lambda date: dt.datetime.strptime(date, \"%d/%m/%y\").strftime(\"%Y-%m-%d\"))\n",
    "    "
   ]
  },
  {
   "cell_type": "markdown",
   "metadata": {},
   "source": [
    "# Data Import"
   ]
  },
  {
   "cell_type": "code",
   "execution_count": 8,
   "metadata": {},
   "outputs": [],
   "source": [
    "chat_raw = pd.read_table(os.path.join(PATH_INPUT_DATA, INPUT_DATA_NAME), header=None, names=['chat_line'], dtype='str')"
   ]
  },
  {
   "cell_type": "code",
   "execution_count": 9,
   "metadata": {
    "scrolled": true
   },
   "outputs": [
    {
     "data": {
      "text/html": [
       "<div>\n",
       "<style scoped>\n",
       "    .dataframe tbody tr th:only-of-type {\n",
       "        vertical-align: middle;\n",
       "    }\n",
       "\n",
       "    .dataframe tbody tr th {\n",
       "        vertical-align: top;\n",
       "    }\n",
       "\n",
       "    .dataframe thead th {\n",
       "        text-align: right;\n",
       "    }\n",
       "</style>\n",
       "<table border=\"1\" class=\"dataframe\">\n",
       "  <thead>\n",
       "    <tr style=\"text-align: right;\">\n",
       "      <th></th>\n",
       "      <th>chat_line</th>\n",
       "    </tr>\n",
       "  </thead>\n",
       "  <tbody>\n",
       "    <tr>\n",
       "      <th>0</th>\n",
       "      <td>9/5/19 11:46 - Nick Teperman: Bueno, estas son...</td>\n",
       "    </tr>\n",
       "    <tr>\n",
       "      <th>1</th>\n",
       "      <td>4 Goulash Cris Batí matt Ger</td>\n",
       "    </tr>\n",
       "    <tr>\n",
       "      <th>2</th>\n",
       "      <td>2 lentejas</td>\n",
       "    </tr>\n",
       "    <tr>\n",
       "      <th>3</th>\n",
       "      <td>2 pastel de papa</td>\n",
       "    </tr>\n",
       "    <tr>\n",
       "      <th>4</th>\n",
       "      <td>4 canelones de pollo y verdura</td>\n",
       "    </tr>\n",
       "    <tr>\n",
       "      <th>...</th>\n",
       "      <td>...</td>\n",
       "    </tr>\n",
       "    <tr>\n",
       "      <th>50951</th>\n",
       "      <td>Feliz día!!🔧</td>\n",
       "    </tr>\n",
       "    <tr>\n",
       "      <th>50952</th>\n",
       "      <td>6/6/20 18:53 - Tomás Bianchi: Fantastico</td>\n",
       "    </tr>\n",
       "    <tr>\n",
       "      <th>50953</th>\n",
       "      <td>6/6/20 18:55 - Mauricio Petaccia: Jajajajajaja</td>\n",
       "    </tr>\n",
       "    <tr>\n",
       "      <th>50954</th>\n",
       "      <td>6/6/20 18:55 - Mauricio Petaccia: Jajajajajaja</td>\n",
       "    </tr>\n",
       "    <tr>\n",
       "      <th>50955</th>\n",
       "      <td>6/6/20 18:55 - Mauricio Petaccia: Es muy bueno</td>\n",
       "    </tr>\n",
       "  </tbody>\n",
       "</table>\n",
       "<p>50956 rows × 1 columns</p>\n",
       "</div>"
      ],
      "text/plain": [
       "                                               chat_line\n",
       "0      9/5/19 11:46 - Nick Teperman: Bueno, estas son...\n",
       "1                           4 Goulash Cris Batí matt Ger\n",
       "2                                             2 lentejas\n",
       "3                                       2 pastel de papa\n",
       "4                         4 canelones de pollo y verdura\n",
       "...                                                  ...\n",
       "50951                                       Feliz día!!🔧\n",
       "50952           6/6/20 18:53 - Tomás Bianchi: Fantastico\n",
       "50953     6/6/20 18:55 - Mauricio Petaccia: Jajajajajaja\n",
       "50954     6/6/20 18:55 - Mauricio Petaccia: Jajajajajaja\n",
       "50955     6/6/20 18:55 - Mauricio Petaccia: Es muy bueno\n",
       "\n",
       "[50956 rows x 1 columns]"
      ]
     },
     "execution_count": 9,
     "metadata": {},
     "output_type": "execute_result"
    }
   ],
   "source": [
    "chat_raw"
   ]
  },
  {
   "cell_type": "code",
   "execution_count": 10,
   "metadata": {},
   "outputs": [
    {
     "name": "stderr",
     "output_type": "stream",
     "text": [
      "c:\\users\\c.lopez.de.munain\\appdata\\local\\programs\\python\\python36\\lib\\re.py:212: FutureWarning:\n",
      "\n",
      "split() requires a non-empty pattern match.\n",
      "\n"
     ]
    }
   ],
   "source": [
    "chat_processed = process_chat_data(chat_raw['chat_line'])"
   ]
  },
  {
   "cell_type": "code",
   "execution_count": 11,
   "metadata": {
    "scrolled": true
   },
   "outputs": [
    {
     "data": {
      "text/html": [
       "<div>\n",
       "<style scoped>\n",
       "    .dataframe tbody tr th:only-of-type {\n",
       "        vertical-align: middle;\n",
       "    }\n",
       "\n",
       "    .dataframe tbody tr th {\n",
       "        vertical-align: top;\n",
       "    }\n",
       "\n",
       "    .dataframe thead th {\n",
       "        text-align: right;\n",
       "    }\n",
       "</style>\n",
       "<table border=\"1\" class=\"dataframe\">\n",
       "  <thead>\n",
       "    <tr style=\"text-align: right;\">\n",
       "      <th></th>\n",
       "      <th>date</th>\n",
       "      <th>time</th>\n",
       "      <th>author</th>\n",
       "      <th>message</th>\n",
       "    </tr>\n",
       "  </thead>\n",
       "  <tbody>\n",
       "    <tr>\n",
       "      <th>0</th>\n",
       "      <td>9/5/19</td>\n",
       "      <td>11:46</td>\n",
       "      <td>Nick Teperman</td>\n",
       "      <td>Bueno, estas son las cantidades: anoten nombre...</td>\n",
       "    </tr>\n",
       "    <tr>\n",
       "      <th>1</th>\n",
       "      <td>9/5/19</td>\n",
       "      <td>11:48</td>\n",
       "      <td>Agus Figueroa C7</td>\n",
       "      <td>*pido sale pepe*</td>\n",
       "    </tr>\n",
       "    <tr>\n",
       "      <th>2</th>\n",
       "      <td>9/5/19</td>\n",
       "      <td>11:50</td>\n",
       "      <td>Pauli Mazza Acn</td>\n",
       "      <td>Bueno, estas son las cantidades: anoten nombre...</td>\n",
       "    </tr>\n",
       "    <tr>\n",
       "      <th>3</th>\n",
       "      <td>9/5/19</td>\n",
       "      <td>11:53</td>\n",
       "      <td>Cristian Kubrak</td>\n",
       "      <td>Se pide</td>\n",
       "    </tr>\n",
       "    <tr>\n",
       "      <th>4</th>\n",
       "      <td>9/5/19</td>\n",
       "      <td>12:00</td>\n",
       "      <td>Tomás Bianchi</td>\n",
       "      <td>Ya pidieron todo?</td>\n",
       "    </tr>\n",
       "    <tr>\n",
       "      <th>...</th>\n",
       "      <td>...</td>\n",
       "      <td>...</td>\n",
       "      <td>...</td>\n",
       "      <td>...</td>\n",
       "    </tr>\n",
       "    <tr>\n",
       "      <th>39993</th>\n",
       "      <td>6/6/20</td>\n",
       "      <td>17:28</td>\n",
       "      <td>Agus Figueroa C7</td>\n",
       "      <td>;)</td>\n",
       "    </tr>\n",
       "    <tr>\n",
       "      <th>39994</th>\n",
       "      <td>6/6/20</td>\n",
       "      <td>18:51</td>\n",
       "      <td>Juan Juan Ferraro</td>\n",
       "      <td>https://www.youtube.com/watch?v=TGG4NLzT4Po Fe...</td>\n",
       "    </tr>\n",
       "    <tr>\n",
       "      <th>39995</th>\n",
       "      <td>6/6/20</td>\n",
       "      <td>18:53</td>\n",
       "      <td>Tomás Bianchi</td>\n",
       "      <td>Fantastico</td>\n",
       "    </tr>\n",
       "    <tr>\n",
       "      <th>39996</th>\n",
       "      <td>6/6/20</td>\n",
       "      <td>18:55</td>\n",
       "      <td>Mauricio Petaccia</td>\n",
       "      <td>Jajajajajaja</td>\n",
       "    </tr>\n",
       "    <tr>\n",
       "      <th>39997</th>\n",
       "      <td>6/6/20</td>\n",
       "      <td>18:55</td>\n",
       "      <td>Mauricio Petaccia</td>\n",
       "      <td>Jajajajajaja</td>\n",
       "    </tr>\n",
       "  </tbody>\n",
       "</table>\n",
       "<p>39998 rows × 4 columns</p>\n",
       "</div>"
      ],
      "text/plain": [
       "         date   time             author  \\\n",
       "0      9/5/19  11:46      Nick Teperman   \n",
       "1      9/5/19  11:48   Agus Figueroa C7   \n",
       "2      9/5/19  11:50    Pauli Mazza Acn   \n",
       "3      9/5/19  11:53    Cristian Kubrak   \n",
       "4      9/5/19  12:00      Tomás Bianchi   \n",
       "...       ...    ...                ...   \n",
       "39993  6/6/20  17:28   Agus Figueroa C7   \n",
       "39994  6/6/20  18:51  Juan Juan Ferraro   \n",
       "39995  6/6/20  18:53      Tomás Bianchi   \n",
       "39996  6/6/20  18:55  Mauricio Petaccia   \n",
       "39997  6/6/20  18:55  Mauricio Petaccia   \n",
       "\n",
       "                                                 message  \n",
       "0      Bueno, estas son las cantidades: anoten nombre...  \n",
       "1                                       *pido sale pepe*  \n",
       "2      Bueno, estas son las cantidades: anoten nombre...  \n",
       "3                                                Se pide  \n",
       "4                                      Ya pidieron todo?  \n",
       "...                                                  ...  \n",
       "39993                                                 ;)  \n",
       "39994  https://www.youtube.com/watch?v=TGG4NLzT4Po Fe...  \n",
       "39995                                         Fantastico  \n",
       "39996                                       Jajajajajaja  \n",
       "39997                                       Jajajajajaja  \n",
       "\n",
       "[39998 rows x 4 columns]"
      ]
     },
     "execution_count": 11,
     "metadata": {},
     "output_type": "execute_result"
    }
   ],
   "source": [
    "chat_processed"
   ]
  },
  {
   "cell_type": "code",
   "execution_count": 12,
   "metadata": {
    "scrolled": false
   },
   "outputs": [
    {
     "data": {
      "text/plain": [
       "array(['Nick Teperman', 'Agus Figueroa C7', 'Pauli Mazza Acn',\n",
       "       'Cristian Kubrak', 'Tomás Bianchi', 'Nico García Aramouni',\n",
       "       'Facundo Scasso', 'Baco C7', 'Albi C7', 'Pato C7', 'Blas Leiro',\n",
       "       'Joaquin Del Prieto', 'Nano C7', 'Tomy C7', 'Ger C7',\n",
       "       'Lola Ferraro', 'Gonzalo Berasaluce', 'Fran Catania', 'Juani Acn',\n",
       "       'Rama C7', 'Camila Rodriguez C7', 'Fede Masciliano', 'Pili Aenlle',\n",
       "       'Cecilia García L M', 'Vari C7', 'Tomas Irazoqui Acn', 'Paula C7',\n",
       "       'Johi C7', 'Fran Lonardi', 'Felipe De Feo', 'Ini C7', 'Eva Acn',\n",
       "       'Mateo Dennehy ITBA', 'Juan Juan Ferraro', 'Juli Scipioni',\n",
       "       'Agus Casas', 'Beian Bohe Usa', 'Negro C7', 'Ale Bessel Acn',\n",
       "       'Sebastian Gutman', 'Carla C7', 'Nico Acn', 'Whatsapp messages',\n",
       "       'Federico Iglesias', 'Lali Acc', 'Fede Font', 'Ignacio Brottier',\n",
       "       'Meli Acn', 'Neidym C7', '+54 9 11 5907-8127', 'Mauricio Petaccia',\n",
       "       'Ianina Hutler', 'Bruno Pascucci', 'Camilo Leonel Amadio',\n",
       "       '+54 9 11 5485-9947', 'Martin Devoto', 'Facu Rodriguez', 'Gabi C7',\n",
       "       'Luz Wetzler C7', 'Lesley Reiderman', 'Clara Graham',\n",
       "       'Ale Roldán Acn', 'Nati Allmi Acn', 'Lucia Monchiero',\n",
       "       'Ruben Gonzalez Acn', 'Martín Turjanski', 'Agustin Begue',\n",
       "       'Franco Bona', '+54 9 11 3174-1032', 'Agustín Albinati',\n",
       "       'Caro Colombo'], dtype=object)"
      ]
     },
     "execution_count": 12,
     "metadata": {},
     "output_type": "execute_result"
    }
   ],
   "source": [
    "chat_processed.author.unique()"
   ]
  },
  {
   "cell_type": "code",
   "execution_count": 13,
   "metadata": {},
   "outputs": [],
   "source": [
    "clean_processed_chat(chat_processed)"
   ]
  },
  {
   "cell_type": "code",
   "execution_count": 14,
   "metadata": {},
   "outputs": [
    {
     "data": {
      "text/html": [
       "<div>\n",
       "<style scoped>\n",
       "    .dataframe tbody tr th:only-of-type {\n",
       "        vertical-align: middle;\n",
       "    }\n",
       "\n",
       "    .dataframe tbody tr th {\n",
       "        vertical-align: top;\n",
       "    }\n",
       "\n",
       "    .dataframe thead th {\n",
       "        text-align: right;\n",
       "    }\n",
       "</style>\n",
       "<table border=\"1\" class=\"dataframe\">\n",
       "  <thead>\n",
       "    <tr style=\"text-align: right;\">\n",
       "      <th></th>\n",
       "      <th>date</th>\n",
       "      <th>time</th>\n",
       "      <th>author</th>\n",
       "      <th>message</th>\n",
       "    </tr>\n",
       "  </thead>\n",
       "  <tbody>\n",
       "    <tr>\n",
       "      <th>0</th>\n",
       "      <td>2019-05-09</td>\n",
       "      <td>11:46</td>\n",
       "      <td>Nick Teperman</td>\n",
       "      <td>Bueno, estas son las cantidades: anoten nombre...</td>\n",
       "    </tr>\n",
       "    <tr>\n",
       "      <th>1</th>\n",
       "      <td>2019-05-09</td>\n",
       "      <td>11:48</td>\n",
       "      <td>Agus Figueroa C7</td>\n",
       "      <td>*pido sale pepe*</td>\n",
       "    </tr>\n",
       "    <tr>\n",
       "      <th>2</th>\n",
       "      <td>2019-05-09</td>\n",
       "      <td>11:50</td>\n",
       "      <td>Pauli Mazza Acn</td>\n",
       "      <td>Bueno, estas son las cantidades: anoten nombre...</td>\n",
       "    </tr>\n",
       "    <tr>\n",
       "      <th>3</th>\n",
       "      <td>2019-05-09</td>\n",
       "      <td>11:53</td>\n",
       "      <td>Cristian Kubrak</td>\n",
       "      <td>Se pide</td>\n",
       "    </tr>\n",
       "    <tr>\n",
       "      <th>4</th>\n",
       "      <td>2019-05-09</td>\n",
       "      <td>12:00</td>\n",
       "      <td>Tomás Bianchi</td>\n",
       "      <td>Ya pidieron todo?</td>\n",
       "    </tr>\n",
       "    <tr>\n",
       "      <th>...</th>\n",
       "      <td>...</td>\n",
       "      <td>...</td>\n",
       "      <td>...</td>\n",
       "      <td>...</td>\n",
       "    </tr>\n",
       "    <tr>\n",
       "      <th>39993</th>\n",
       "      <td>2020-06-06</td>\n",
       "      <td>17:28</td>\n",
       "      <td>Agus Figueroa C7</td>\n",
       "      <td>;)</td>\n",
       "    </tr>\n",
       "    <tr>\n",
       "      <th>39994</th>\n",
       "      <td>2020-06-06</td>\n",
       "      <td>18:51</td>\n",
       "      <td>Juan Juan Ferraro</td>\n",
       "      <td>https://www.youtube.com/watch?v=TGG4NLzT4Po Fe...</td>\n",
       "    </tr>\n",
       "    <tr>\n",
       "      <th>39995</th>\n",
       "      <td>2020-06-06</td>\n",
       "      <td>18:53</td>\n",
       "      <td>Tomás Bianchi</td>\n",
       "      <td>Fantastico</td>\n",
       "    </tr>\n",
       "    <tr>\n",
       "      <th>39996</th>\n",
       "      <td>2020-06-06</td>\n",
       "      <td>18:55</td>\n",
       "      <td>Mauricio Petaccia</td>\n",
       "      <td>Jajajajajaja</td>\n",
       "    </tr>\n",
       "    <tr>\n",
       "      <th>39997</th>\n",
       "      <td>2020-06-06</td>\n",
       "      <td>18:55</td>\n",
       "      <td>Mauricio Petaccia</td>\n",
       "      <td>Jajajajajaja</td>\n",
       "    </tr>\n",
       "  </tbody>\n",
       "</table>\n",
       "<p>39998 rows × 4 columns</p>\n",
       "</div>"
      ],
      "text/plain": [
       "             date   time             author  \\\n",
       "0      2019-05-09  11:46      Nick Teperman   \n",
       "1      2019-05-09  11:48   Agus Figueroa C7   \n",
       "2      2019-05-09  11:50    Pauli Mazza Acn   \n",
       "3      2019-05-09  11:53    Cristian Kubrak   \n",
       "4      2019-05-09  12:00      Tomás Bianchi   \n",
       "...           ...    ...                ...   \n",
       "39993  2020-06-06  17:28   Agus Figueroa C7   \n",
       "39994  2020-06-06  18:51  Juan Juan Ferraro   \n",
       "39995  2020-06-06  18:53      Tomás Bianchi   \n",
       "39996  2020-06-06  18:55  Mauricio Petaccia   \n",
       "39997  2020-06-06  18:55  Mauricio Petaccia   \n",
       "\n",
       "                                                 message  \n",
       "0      Bueno, estas son las cantidades: anoten nombre...  \n",
       "1                                       *pido sale pepe*  \n",
       "2      Bueno, estas son las cantidades: anoten nombre...  \n",
       "3                                                Se pide  \n",
       "4                                      Ya pidieron todo?  \n",
       "...                                                  ...  \n",
       "39993                                                 ;)  \n",
       "39994  https://www.youtube.com/watch?v=TGG4NLzT4Po Fe...  \n",
       "39995                                         Fantastico  \n",
       "39996                                       Jajajajajaja  \n",
       "39997                                       Jajajajajaja  \n",
       "\n",
       "[39998 rows x 4 columns]"
      ]
     },
     "execution_count": 14,
     "metadata": {},
     "output_type": "execute_result"
    }
   ],
   "source": [
    "chat_processed"
   ]
  },
  {
   "cell_type": "markdown",
   "metadata": {},
   "source": [
    "#  Export"
   ]
  },
  {
   "cell_type": "code",
   "execution_count": 15,
   "metadata": {},
   "outputs": [],
   "source": [
    "chat_processed.to_csv(os.path.join(PATH_OUTPUT_DATA, OUTPUT_DATA_NAME), index=False)"
   ]
  }
 ],
 "metadata": {
  "kernelspec": {
   "display_name": "Python 3",
   "language": "python",
   "name": "python3"
  },
  "language_info": {
   "codemirror_mode": {
    "name": "ipython",
    "version": 3
   },
   "file_extension": ".py",
   "mimetype": "text/x-python",
   "name": "python",
   "nbconvert_exporter": "python",
   "pygments_lexer": "ipython3",
   "version": "3.6.4"
  },
  "toc": {
   "base_numbering": 1,
   "nav_menu": {},
   "number_sections": true,
   "sideBar": true,
   "skip_h1_title": false,
   "title_cell": "Table of Contents",
   "title_sidebar": "Contents",
   "toc_cell": false,
   "toc_position": {},
   "toc_section_display": true,
   "toc_window_display": true
  }
 },
 "nbformat": 4,
 "nbformat_minor": 4
}
