{
 "cells": [
  {
   "cell_type": "markdown",
   "metadata": {},
   "source": [
    "# Packages"
   ]
  },
  {
   "cell_type": "code",
   "execution_count": 6,
   "metadata": {},
   "outputs": [],
   "source": [
    "import pandas as pd\n",
    "import os\n",
    "import re\n",
    "import datetime as dt\n",
    "pd.options.plotting.backend = \"plotly\"\n",
    "import plotly.graph_objects as go\n",
    "# import plotly.express as px\n",
    "from plotly.subplots import make_subplots\n",
    "\n",
    "from ipywidgets import interact, interactive, fixed, interact_manual\n",
    "import ipywidgets as widgets"
   ]
  },
  {
   "cell_type": "markdown",
   "metadata": {},
   "source": [
    "#  Parameters"
   ]
  },
  {
   "cell_type": "code",
   "execution_count": 7,
   "metadata": {},
   "outputs": [],
   "source": [
    "PATH_INPUT_DATA = os.path.join('..','data','input')\n",
    "INPUT_DATA_NAME = 'Chat de WhatsApp con C7.txt'\n",
    "\n",
    "PATH_OUTPUT_DATA = os.path.join('..','data','output')\n",
    "OUTPUT_DATA_NAME = 'chat_data.csv'"
   ]
  },
  {
   "cell_type": "markdown",
   "metadata": {},
   "source": [
    "#  Import data"
   ]
  },
  {
   "cell_type": "code",
   "execution_count": 8,
   "metadata": {},
   "outputs": [],
   "source": [
    "chat_data = pd.read_csv(os.path.join(PATH_OUTPUT_DATA, OUTPUT_DATA_NAME))"
   ]
  },
  {
   "cell_type": "markdown",
   "metadata": {},
   "source": [
    "# Preprocess data"
   ]
  },
  {
   "cell_type": "code",
   "execution_count": 9,
   "metadata": {},
   "outputs": [],
   "source": [
    "def process_data(data):\n",
    "    data.loc[:,'datetime'] = pd.to_datetime(data.loc[:,'date'] + ' ' + data.loc[:,'time'])\n",
    "    data.loc[:,'hour'] = data.loc[:,'datetime'].dt.hour\n",
    "    data.loc[:,'weekday'] = data.loc[:,'datetime'].dt.weekday\n",
    "    list_authors = data.loc[:,'author'].unique().tolist()\n",
    "    \n",
    "    return data, list_authors"
   ]
  },
  {
   "cell_type": "code",
   "execution_count": 11,
   "metadata": {},
   "outputs": [],
   "source": [
    "chat_data, list_authors = process_data(chat_data)"
   ]
  },
  {
   "cell_type": "markdown",
   "metadata": {},
   "source": [
    "## Authors"
   ]
  },
  {
   "cell_type": "code",
   "execution_count": 13,
   "metadata": {},
   "outputs": [],
   "source": [
    "def plot_messages_by_author(n_authors=1.0):\n",
    "    author_value_counts = chat_data['author'].value_counts() # Number of messages per author\n",
    "    \n",
    "    top_n_author_value_counts = author_value_counts.head(n_authors).sort_values(ascending=True) # Number of messages per author for the top 10 most active authors\n",
    "    \n",
    "    authors = top_n_author_value_counts.index.values\n",
    "    count_messages = top_n_author_value_counts.values\n",
    "    \n",
    "    fig = go.Bar(x=count_messages, y=authors, orientation='h', showlegend=False)\n",
    "    \n",
    "    return fig"
   ]
  },
  {
   "cell_type": "code",
   "execution_count": 14,
   "metadata": {},
   "outputs": [],
   "source": [
    "def plot_avg_line():\n",
    "    \n",
    "    mean_counts = chat_data['author'].value_counts().unique().mean()\n",
    "    \n",
    "    line = go.Scatter(y= [0, 1],\n",
    "                        x= [mean_counts, mean_counts],\n",
    "                        mode= 'lines',\n",
    "                        showlegend= True,\n",
    "                        hoverinfo='none',\n",
    "                        name='Average # Messages/Author')\n",
    "    \n",
    "    return line"
   ]
  },
  {
   "cell_type": "code",
   "execution_count": 15,
   "metadata": {},
   "outputs": [],
   "source": [
    "def plot_messages(n_authors):\n",
    "    fig = make_subplots(specs=[[{\"secondary_y\": True}]])\n",
    "    \n",
    "    fig.add_trace(plot_messages_by_author(n_authors), 1, 1, secondary_y=False)\n",
    "    fig.add_trace(plot_avg_line(), 1, 1, secondary_y=True)\n",
    "    \n",
    "    fig.update_layout(width=800, height=800, \n",
    "                      legend= dict(x=0, y=-0.1),\n",
    "                      yaxis2= dict(fixedrange= True, range= [0, 1], visible= False))\n",
    "    \n",
    "    fig.show()"
   ]
  },
  {
   "cell_type": "code",
   "execution_count": 16,
   "metadata": {
    "scrolled": false
   },
   "outputs": [
    {
     "data": {
      "application/vnd.jupyter.widget-view+json": {
       "model_id": "0491a28e43194f36a05e5c9456b1f3c6",
       "version_major": 2,
       "version_minor": 0
      },
      "text/plain": [
       "interactive(children=(IntSlider(value=10, description='n_authors', max=71, min=1), Output()), _dom_classes=('w…"
      ]
     },
     "metadata": {},
     "output_type": "display_data"
    },
    {
     "data": {
      "text/plain": [
       "<function __main__.plot_messages(n_authors)>"
      ]
     },
     "execution_count": 16,
     "metadata": {},
     "output_type": "execute_result"
    }
   ],
   "source": [
    "interact(plot_messages, n_authors=widgets.IntSlider(min=1, max=len(list_authors), step=1, value=10))"
   ]
  },
  {
   "cell_type": "markdown",
   "metadata": {},
   "source": [
    "## Messages"
   ]
  },
  {
   "cell_type": "code",
   "execution_count": 17,
   "metadata": {},
   "outputs": [],
   "source": [
    "def plot_messages_by_date(author='Everyone'):\n",
    "    if author=='Everyone':\n",
    "        series_to_plot = chat_data.loc[:,['date','message']].groupby('date').count().reset_index()\n",
    "    else:\n",
    "        series_to_plot = chat_data.loc[\n",
    "            chat_data.loc[:,'author'] == author, \n",
    "            ['date','message']].groupby('date').count().reset_index()\n",
    "        \n",
    "    dates = series_to_plot.loc[:,'date']\n",
    "    count_messages = series_to_plot.loc[:,'message']\n",
    "\n",
    "    fig = go.Figure(data=go.Scatter(x=dates, y=count_messages, mode='lines+markers'))\n",
    "    \n",
    "    fig.show()"
   ]
  },
  {
   "cell_type": "code",
   "execution_count": 18,
   "metadata": {},
   "outputs": [
    {
     "data": {
      "application/vnd.jupyter.widget-view+json": {
       "model_id": "f31e0ea5c49f4d92819a6f337dfd6de2",
       "version_major": 2,
       "version_minor": 0
      },
      "text/plain": [
       "interactive(children=(Dropdown(description='author', options=('Everyone', '+54 9 11 3174-1032', '+54 9 11 5485…"
      ]
     },
     "metadata": {},
     "output_type": "display_data"
    }
   ],
   "source": [
    "interactive(plot_messages_by_date, author=['Everyone'] + chat_data.author.sort_values().unique().tolist())"
   ]
  },
  {
   "cell_type": "markdown",
   "metadata": {},
   "source": [
    "## Time"
   ]
  },
  {
   "cell_type": "code",
   "execution_count": 19,
   "metadata": {},
   "outputs": [],
   "source": [
    "def plot_active_hours(author='Everyone'):    \n",
    "    if author=='Everyone':\n",
    "        series_to_plot = chat_data.loc[:,['date','hour','message']]\n",
    "    else:\n",
    "        series_to_plot = chat_data.loc[\n",
    "            chat_data.loc[:,'author'] == author, \n",
    "            ['date','hour','message']]\n",
    "        \n",
    "    series_to_plot = series_to_plot.groupby(['date','hour'])['message'].count().groupby('hour').mean().reset_index()\n",
    "    \n",
    "    fig = go.Bar(x=series_to_plot.hour, y=series_to_plot.message, \n",
    "                 orientation='v')\n",
    "    \n",
    "    return fig"
   ]
  },
  {
   "cell_type": "code",
   "execution_count": 20,
   "metadata": {},
   "outputs": [],
   "source": [
    "def plot_active_weekdays(author='Everyone'):    \n",
    "    if author=='Everyone':\n",
    "        series_to_plot = chat_data.loc[:,['date','weekday','message']]\n",
    "    else:\n",
    "        series_to_plot = chat_data.loc[\n",
    "            chat_data.loc[:,'author'] == author, \n",
    "            ['date','weekday','message']]\n",
    "    \n",
    "    series_to_plot = series_to_plot.groupby(['date','weekday'])['message'].count().groupby('weekday').mean().sort_index(ascending=False)\n",
    "    \n",
    "    dict_day_name={0:'Monday', 1:'Tuesday', 2:'Wednesday', 3:'Thursday', 4:'Friday', 5:'Saturday', 6:'Sunday'}\n",
    "\n",
    "    series_to_plot.index = series_to_plot.index.map(dict_day_name)\n",
    "    authors = series_to_plot.index.values\n",
    "    count_messages = series_to_plot.values\n",
    "    \n",
    "    fig = go.Bar(x=count_messages, y=authors,  \n",
    "                 orientation='h')\n",
    "    \n",
    "    return fig"
   ]
  },
  {
   "cell_type": "code",
   "execution_count": 21,
   "metadata": {},
   "outputs": [],
   "source": [
    "def plot_active_hours_days(author='Everyone'):    \n",
    "    \n",
    "    fig = make_subplots(rows=1, cols=2, \n",
    "                        column_widths = [0.7,0.3],\n",
    "                        subplot_titles=(['Avg # Messages/hour', 'Avg # Messages/day']))\n",
    "    \n",
    "    fig.add_trace(\n",
    "        plot_active_hours(author=author),\n",
    "        row=1, col=1\n",
    "    )\n",
    "    \n",
    "    fig.add_trace(\n",
    "        plot_active_weekdays(author=author),\n",
    "        row=1, col=2\n",
    "    )\n",
    "    \n",
    "    fig['layout']['xaxis1'].update(\n",
    "        title='Hour'\n",
    "    )\n",
    "    fig['layout']['yaxis2'].update(\n",
    "#         title='Día',\n",
    "        side='right'\n",
    "    )\n",
    "    \n",
    "    fig.update_layout(height=400, width=900, \n",
    "                      showlegend=False\n",
    "#                       ,title_text=\"Time behaviour\"\n",
    "                     )\n",
    "    fig.show()"
   ]
  },
  {
   "cell_type": "code",
   "execution_count": 22,
   "metadata": {},
   "outputs": [
    {
     "data": {
      "application/vnd.jupyter.widget-view+json": {
       "model_id": "210a41bd926e4f28981a1d9f9722b8a1",
       "version_major": 2,
       "version_minor": 0
      },
      "text/plain": [
       "interactive(children=(Dropdown(description='author', options=('Everyone', '+54 9 11 3174-1032', '+54 9 11 5485…"
      ]
     },
     "metadata": {},
     "output_type": "display_data"
    }
   ],
   "source": [
    "interactive(plot_active_hours_days, author=['Everyone'] + chat_data.author.sort_values().unique().tolist())"
   ]
  }
 ],
 "metadata": {
  "kernelspec": {
   "display_name": "Python 3",
   "language": "python",
   "name": "python3"
  },
  "toc": {
   "base_numbering": 1,
   "nav_menu": {},
   "number_sections": true,
   "sideBar": true,
   "skip_h1_title": false,
   "title_cell": "Table of Contents",
   "title_sidebar": "Contents",
   "toc_cell": false,
   "toc_position": {
    "height": "calc(100% - 180px)",
    "left": "10px",
    "top": "150px",
    "width": "341.484px"
   },
   "toc_section_display": true,
   "toc_window_display": true
  }
 },
 "nbformat": 4,
 "nbformat_minor": 4
}
